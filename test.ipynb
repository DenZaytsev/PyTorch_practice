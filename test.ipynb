{
  "nbformat": 4,
  "nbformat_minor": 0,
  "metadata": {
    "colab": {
      "name": "test.ipynb",
      "provenance": [],
      "collapsed_sections": [],
      "authorship_tag": "ABX9TyO6DDNHh36NZ63l4ey8RQxJ",
      "include_colab_link": true
    },
    "kernelspec": {
      "name": "python3",
      "display_name": "Python 3"
    }
  },
  "cells": [
    {
      "cell_type": "markdown",
      "metadata": {
        "id": "view-in-github",
        "colab_type": "text"
      },
      "source": [
        "<a href=\"https://colab.research.google.com/github/posttsoi/-building-the-first-neural-networks/blob/master/test.ipynb\" target=\"_parent\"><img src=\"https://colab.research.google.com/assets/colab-badge.svg\" alt=\"Open In Colab\"/></a>"
      ]
    },
    {
      "cell_type": "code",
      "metadata": {
        "id": "yiOGWRrKAOi8",
        "colab_type": "code",
        "colab": {}
      },
      "source": [
        "import torch"
      ],
      "execution_count": 148,
      "outputs": []
    },
    {
      "cell_type": "code",
      "metadata": {
        "id": "hVTqyjS5AmnI",
        "colab_type": "code",
        "colab": {}
      },
      "source": [
        "%matplotlib inline\n",
        "import matplotlib.pyplot as plt \n",
        "import matplotlib"
      ],
      "execution_count": 149,
      "outputs": []
    },
    {
      "cell_type": "code",
      "metadata": {
        "id": "jimiidN1BW9n",
        "colab_type": "code",
        "colab": {}
      },
      "source": [
        "from functools import reduce"
      ],
      "execution_count": 150,
      "outputs": []
    },
    {
      "cell_type": "markdown",
      "metadata": {
        "id": "W54BJcI4Ba1G",
        "colab_type": "text"
      },
      "source": [
        "Train dataset\n",
        "\n"
      ]
    },
    {
      "cell_type": "code",
      "metadata": {
        "id": "WFYN0-byBc-b",
        "colab_type": "code",
        "colab": {
          "base_uri": "https://localhost:8080/",
          "height": 282
        },
        "outputId": "20afa7d4-13d9-4071-bcb7-42be650e8f65"
      },
      "source": [
        "x_train = torch.rand(100)\n",
        "x_train = x_train * 20.0 - 10.0\n",
        "\n",
        "def func(x):\n",
        "  return torch.sin(0.8*x)\n",
        "\n",
        "y_train = func(x_train)\n",
        "\n",
        "plt.plot(x_train.numpy(), y_train.numpy(),'o')\n",
        "\n"
      ],
      "execution_count": 193,
      "outputs": [
        {
          "output_type": "execute_result",
          "data": {
            "text/plain": [
              "[<matplotlib.lines.Line2D at 0x7eff6ddd7198>]"
            ]
          },
          "metadata": {
            "tags": []
          },
          "execution_count": 193
        },
        {
          "output_type": "display_data",
          "data": {
            "image/png": "[encoded data removed]",
            "text/plain": [
              "<Figure size 432x288 with 1 Axes>"
            ]
          },
          "metadata": {
            "tags": [],
            "needs_background": "light"
          }
        }
      ]
    },
    {
      "cell_type": "code",
      "metadata": {
        "id": "KPKFJLogCT5y",
        "colab_type": "code",
        "colab": {}
      },
      "source": [
        "noise = torch.rand(y_train.shape) * 0.09  # сгенерируем шум\n",
        "\n"
      ],
      "execution_count": 194,
      "outputs": []
    },
    {
      "cell_type": "code",
      "metadata": {
        "id": "rGHqyQqcGoRE",
        "colab_type": "code",
        "colab": {
          "base_uri": "https://localhost:8080/",
          "height": 282
        },
        "outputId": "c30277c9-ace2-4918-8a41-ff58373fa6ac"
      },
      "source": [
        "y_train += noise\n",
        "\n",
        "plt.plot(x_train.numpy(), y_train.numpy(),'o')"
      ],
      "execution_count": 195,
      "outputs": [
        {
          "output_type": "execute_result",
          "data": {
            "text/plain": [
              "[<matplotlib.lines.Line2D at 0x7eff6dd426a0>]"
            ]
          },
          "metadata": {
            "tags": []
          },
          "execution_count": 195
        },
        {
          "output_type": "display_data",
          "data": {
            "image/png": "[encoded data removed]",
            "text/plain": [
              "<Figure size 432x288 with 1 Axes>"
            ]
          },
          "metadata": {
            "tags": [],
            "needs_background": "light"
          }
        }
      ]
    },
    {
      "cell_type": "code",
      "metadata": {
        "id": "ebq0qjQ9Hdfy",
        "colab_type": "code",
        "colab": {
          "base_uri": "https://localhost:8080/",
          "height": 1000
        },
        "outputId": "687fd6a8-0eb1-4c24-cb73-ef2df0ba6f7e"
      },
      "source": [
        "x_train.unsqueeze_(1)  # получаем вектора \"строки\" вектор  \"столбец\"\n",
        "y_train.unsqueeze_(1)"
      ],
      "execution_count": 196,
      "outputs": [
        {
          "output_type": "execute_result",
          "data": {
            "text/plain": [
              "tensor([[-0.0143],\n",
              "        [-0.5823],\n",
              "        [ 1.0237],\n",
              "        [ 1.0036],\n",
              "        [-0.5077],\n",
              "        [-0.5874],\n",
              "        [ 0.1876],\n",
              "        [-0.6539],\n",
              "        [ 0.8195],\n",
              "        [ 1.0419],\n",
              "        [ 0.7661],\n",
              "        [ 0.8534],\n",
              "        [-0.3481],\n",
              "        [-0.7071],\n",
              "        [ 0.9993],\n",
              "        [-0.1046],\n",
              "        [-0.9315],\n",
              "        [ 0.5497],\n",
              "        [-0.1755],\n",
              "        [-0.3082],\n",
              "        [-0.9878],\n",
              "        [-0.8713],\n",
              "        [ 0.5253],\n",
              "        [-0.4271],\n",
              "        [ 0.4250],\n",
              "        [ 0.6253],\n",
              "        [-0.4301],\n",
              "        [-0.0199],\n",
              "        [ 0.1066],\n",
              "        [ 0.5502],\n",
              "        [ 0.7907],\n",
              "        [-0.5083],\n",
              "        [ 0.4807],\n",
              "        [ 0.6962],\n",
              "        [-0.4906],\n",
              "        [-0.6986],\n",
              "        [-0.0166],\n",
              "        [-0.9601],\n",
              "        [ 1.0243],\n",
              "        [-0.9827],\n",
              "        [ 0.3454],\n",
              "        [ 1.0823],\n",
              "        [-0.2818],\n",
              "        [-0.5418],\n",
              "        [ 0.9507],\n",
              "        [ 0.6609],\n",
              "        [-0.4080],\n",
              "        [ 0.7452],\n",
              "        [-0.2053],\n",
              "        [ 0.6398],\n",
              "        [ 0.2043],\n",
              "        [-0.9066],\n",
              "        [-0.0720],\n",
              "        [ 0.9618],\n",
              "        [ 0.4331],\n",
              "        [ 1.0139],\n",
              "        [ 1.0226],\n",
              "        [-0.9091],\n",
              "        [-0.8677],\n",
              "        [ 1.0168],\n",
              "        [-0.5614],\n",
              "        [-0.2914],\n",
              "        [-0.2889],\n",
              "        [ 0.7068],\n",
              "        [ 1.0512],\n",
              "        [-0.3973],\n",
              "        [-0.6128],\n",
              "        [ 1.0113],\n",
              "        [ 0.6044],\n",
              "        [-0.9106],\n",
              "        [ 0.8963],\n",
              "        [-0.3280],\n",
              "        [-0.8548],\n",
              "        [ 0.1912],\n",
              "        [-0.3185],\n",
              "        [-0.3414],\n",
              "        [-0.6491],\n",
              "        [-0.7623],\n",
              "        [ 0.5907],\n",
              "        [ 0.8878],\n",
              "        [ 0.2063],\n",
              "        [ 0.5860],\n",
              "        [-0.6812],\n",
              "        [ 0.2455],\n",
              "        [ 0.9871],\n",
              "        [ 0.1247],\n",
              "        [ 0.1811],\n",
              "        [-0.9160],\n",
              "        [ 0.1057],\n",
              "        [ 0.9214],\n",
              "        [-0.3684],\n",
              "        [ 0.9352],\n",
              "        [-0.7080],\n",
              "        [ 0.5604],\n",
              "        [ 1.0354],\n",
              "        [ 0.0037],\n",
              "        [-0.9462],\n",
              "        [-0.8519],\n",
              "        [-0.9431],\n",
              "        [-0.2581]])"
            ]
          },
          "metadata": {
            "tags": []
          },
          "execution_count": 196
        }
      ]
    },
    {
      "cell_type": "code",
      "metadata": {
        "id": "0AIs32r3BwMn",
        "colab_type": "code",
        "colab": {
          "base_uri": "https://localhost:8080/",
          "height": 1000
        },
        "outputId": "7b387af1-aede-4d08-dfb4-f28c7ecb9c82"
      },
      "source": [
        "x_validation = torch.linspace(-10, 10, 100)\n",
        "y_validation = func(x_validation)\n",
        "\n",
        "x_validation.unsqueeze_(1)  # получаем вектора \"строки\" вектор  \"столбец\"\n",
        "y_validation.unsqueeze_(1)"
      ],
      "execution_count": 197,
      "outputs": [
        {
          "output_type": "execute_result",
          "data": {
            "text/plain": [
              "tensor([[-0.9894],\n",
              "        [-0.9999],\n",
              "        [-0.9843],\n",
              "        [-0.9431],\n",
              "        [-0.8774],\n",
              "        [-0.7887],\n",
              "        [-0.6795],\n",
              "        [-0.5526],\n",
              "        [-0.4113],\n",
              "        [-0.2593],\n",
              "        [-0.1005],\n",
              "        [ 0.0609],\n",
              "        [ 0.2207],\n",
              "        [ 0.3748],\n",
              "        [ 0.5191],\n",
              "        [ 0.6499],\n",
              "        [ 0.7637],\n",
              "        [ 0.8576],\n",
              "        [ 0.9292],\n",
              "        [ 0.9766],\n",
              "        [ 0.9985],\n",
              "        [ 0.9944],\n",
              "        [ 0.9643],\n",
              "        [ 0.9091],\n",
              "        [ 0.8303],\n",
              "        [ 0.7298],\n",
              "        [ 0.6103],\n",
              "        [ 0.4748],\n",
              "        [ 0.3270],\n",
              "        [ 0.1707],\n",
              "        [ 0.0099],\n",
              "        [-0.1511],\n",
              "        [-0.3082],\n",
              "        [-0.4573],\n",
              "        [-0.5944],\n",
              "        [-0.7161],\n",
              "        [-0.8191],\n",
              "        [-0.9007],\n",
              "        [-0.9589],\n",
              "        [-0.9921],\n",
              "        [-0.9994],\n",
              "        [-0.9806],\n",
              "        [-0.9364],\n",
              "        [-0.8677],\n",
              "        [-0.7764],\n",
              "        [-0.6648],\n",
              "        [-0.5360],\n",
              "        [-0.3931],\n",
              "        [-0.2401],\n",
              "        [-0.0807],\n",
              "        [ 0.0807],\n",
              "        [ 0.2401],\n",
              "        [ 0.3931],\n",
              "        [ 0.5360],\n",
              "        [ 0.6648],\n",
              "        [ 0.7764],\n",
              "        [ 0.8677],\n",
              "        [ 0.9364],\n",
              "        [ 0.9806],\n",
              "        [ 0.9994],\n",
              "        [ 0.9921],\n",
              "        [ 0.9589],\n",
              "        [ 0.9007],\n",
              "        [ 0.8191],\n",
              "        [ 0.7161],\n",
              "        [ 0.5944],\n",
              "        [ 0.4573],\n",
              "        [ 0.3082],\n",
              "        [ 0.1511],\n",
              "        [-0.0099],\n",
              "        [-0.1707],\n",
              "        [-0.3270],\n",
              "        [-0.4748],\n",
              "        [-0.6103],\n",
              "        [-0.7298],\n",
              "        [-0.8303],\n",
              "        [-0.9091],\n",
              "        [-0.9643],\n",
              "        [-0.9944],\n",
              "        [-0.9985],\n",
              "        [-0.9766],\n",
              "        [-0.9292],\n",
              "        [-0.8576],\n",
              "        [-0.7637],\n",
              "        [-0.6499],\n",
              "        [-0.5191],\n",
              "        [-0.3748],\n",
              "        [-0.2207],\n",
              "        [-0.0609],\n",
              "        [ 0.1005],\n",
              "        [ 0.2593],\n",
              "        [ 0.4113],\n",
              "        [ 0.5526],\n",
              "        [ 0.6795],\n",
              "        [ 0.7887],\n",
              "        [ 0.8774],\n",
              "        [ 0.9431],\n",
              "        [ 0.9843],\n",
              "        [ 0.9999],\n",
              "        [ 0.9894]])"
            ]
          },
          "metadata": {
            "tags": []
          },
          "execution_count": 197
        }
      ]
    },
    {
      "cell_type": "code",
      "metadata": {
        "id": "jjjZXkTkHsc7",
        "colab_type": "code",
        "colab": {}
      },
      "source": [
        "class SineNet(torch.nn.Module):\n",
        "    \"\"\"Модель линейной нейронной сети.\"\"\"\n",
        "    def __init__(self, n_hidden_neurons):\n",
        "        super(SineNet, self).__init__()  # вызываем родительский инициализатор \n",
        "        self.fc1 = torch.nn.Linear(1, n_hidden_neurons, bias= True)  # первый  полносвязный слой с одним входом (координата x)\n",
        "        self.fc2 = torch.nn.Linear(n_hidden_neurons, n_hidden_neurons, bias= True)  # выходной нейнон \n",
        "        self.tanh1 = torch.nn.Tanh()  #  функция активации\n",
        "        self.tanh2 = torch.nn.Tanh()\n",
        "        self.fc3 = torch.nn.Linear(n_hidden_neurons, 1, bias= True)\n",
        "        self.nlayers = [self.fc1, self.tanh1, self.fc2, self.tanh2, self.fc3]\n",
        "\n",
        "    def forward(self, x):\n",
        "        \"\"\"Фунция описывает в какой последовательности будут применяться наши слои.\"\"\"\n",
        "        return reduce(lambda x,f : f(x), self.nlayers , x)"
      ],
      "execution_count": 205,
      "outputs": []
    },
    {
      "cell_type": "code",
      "metadata": {
        "id": "xzqa86FL93ux",
        "colab_type": "code",
        "colab": {}
      },
      "source": [
        "sine_net = SineNet(50)"
      ],
      "execution_count": 219,
      "outputs": []
    },
    {
      "cell_type": "code",
      "metadata": {
        "id": "OSrQoMHsBvIE",
        "colab_type": "code",
        "colab": {}
      },
      "source": [
        ""
      ],
      "execution_count": 157,
      "outputs": []
    },
    {
      "cell_type": "markdown",
      "metadata": {
        "id": "0PtgqQzNEbVf",
        "colab_type": "text"
      },
      "source": [
        "**Optimizer**\n",
        "\n"
      ]
    },
    {
      "cell_type": "code",
      "metadata": {
        "id": "YD63wBWfEkcA",
        "colab_type": "code",
        "colab": {}
      },
      "source": [
        "optimizer = torch.optim.Adam(sine_net.parameters(), lr=0.03)"
      ],
      "execution_count": 220,
      "outputs": []
    },
    {
      "cell_type": "markdown",
      "metadata": {
        "id": "gvqHrFEkE2lm",
        "colab_type": "text"
      },
      "source": [
        "**Loss function**\n"
      ]
    },
    {
      "cell_type": "code",
      "metadata": {
        "id": "SKKi0E_uE-GB",
        "colab_type": "code",
        "colab": {}
      },
      "source": [
        "def loss(pred, target):\n",
        "    \"\"\"MSE\"\"\"\n",
        "    square = (pred - target)**2\n",
        "    return square.mean()"
      ],
      "execution_count": 221,
      "outputs": []
    },
    {
      "cell_type": "code",
      "metadata": {
        "id": "tFcdPoPnFvwi",
        "colab_type": "code",
        "colab": {}
      },
      "source": [
        ""
      ],
      "execution_count": 159,
      "outputs": []
    },
    {
      "cell_type": "markdown",
      "metadata": {
        "id": "mgN6L-RZGCf9",
        "colab_type": "text"
      },
      "source": [
        "**Training procedure**\n"
      ]
    },
    {
      "cell_type": "code",
      "metadata": {
        "id": "O111my6BGV2g",
        "colab_type": "code",
        "colab": {}
      },
      "source": [
        "for epoch_index in range(2000):\n",
        "    optimizer.zero_grad()\n",
        "\n",
        "    y_pred = sine_net.forward(x_train)\n",
        "    loss_val = loss(y_pred, y_train)\n",
        "\n",
        "    loss_val.backward()\n",
        "    optimizer.step()\n",
        "\n"
      ],
      "execution_count": 223,
      "outputs": []
    },
    {
      "cell_type": "code",
      "metadata": {
        "id": "2xkQ8NUq_4LA",
        "colab_type": "code",
        "colab": {}
      },
      "source": [
        "def predict(net, x, y):\n",
        "    \"\"\"Предсказывает данные и отрисовывает их.\"\"\"\n",
        "    y_predict = net.forward(x)\n",
        "\n",
        "    plt.plot(x.numpy(), y.numpy(), 'o', label='Graund truth')\n",
        "    plt.plot(x_train.numpy(), y_predict.data.numpy(), 'o', c='r', label='Prediction')\n",
        "\n"
      ],
      "execution_count": 216,
      "outputs": []
    },
    {
      "cell_type": "code",
      "metadata": {
        "id": "aAdx7pveBMd-",
        "colab_type": "code",
        "colab": {
          "base_uri": "https://localhost:8080/",
          "height": 265
        },
        "outputId": "f2b36d62-03af-417c-b28b-fc905c5a91c3"
      },
      "source": [
        "predict(sine_net, x_validation, y_validation)"
      ],
      "execution_count": 224,
      "outputs": [
        {
          "output_type": "display_data",
          "data": {
            "image/png": "[encoded data removed]",
            "text/plain": [
              "<Figure size 432x288 with 1 Axes>"
            ]
          },
          "metadata": {
            "tags": [],
            "needs_background": "light"
          }
        }
      ]
    }
  ]
}