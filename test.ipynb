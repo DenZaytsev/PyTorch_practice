{
  "nbformat": 4,
  "nbformat_minor": 0,
  "metadata": {
    "colab": {
      "name": "test.ipynb",
      "provenance": [],
      "collapsed_sections": [],
      "authorship_tag": "ABX9TyOC0XoKRP/Yw/NaukCv8+ZL",
      "include_colab_link": true
    },
    "kernelspec": {
      "name": "python3",
      "display_name": "Python 3"
    }
  },
  "cells": [
    {
      "cell_type": "markdown",
      "metadata": {
        "id": "view-in-github",
        "colab_type": "text"
      },
      "source": [
        "<a href=\"https://colab.research.google.com/github/posttsoi/-building-the-first-neural-networks/blob/master/test.ipynb\" target=\"_parent\"><img src=\"https://colab.research.google.com/assets/colab-badge.svg\" alt=\"Open In Colab\"/></a>"
      ]
    },
    {
      "cell_type": "code",
      "metadata": {
        "id": "yiOGWRrKAOi8",
        "colab_type": "code",
        "colab": {}
      },
      "source": [
        "import torch"
      ],
      "execution_count": 148,
      "outputs": []
    },
    {
      "cell_type": "code",
      "metadata": {
        "id": "hVTqyjS5AmnI",
        "colab_type": "code",
        "colab": {}
      },
      "source": [
        "%matplotlib inline\n",
        "import matplotlib.pyplot as plt \n",
        "import matplotlib"
      ],
      "execution_count": 149,
      "outputs": []
    },
    {
      "cell_type": "code",
      "metadata": {
        "id": "jimiidN1BW9n",
        "colab_type": "code",
        "colab": {}
      },
      "source": [
        "from functools import reduce"
      ],
      "execution_count": 150,
      "outputs": []
    },
    {
      "cell_type": "markdown",
      "metadata": {
        "id": "W54BJcI4Ba1G",
        "colab_type": "text"
      },
      "source": [
        "Train dataset\n",
        "\n"
      ]
    },
    {
      "cell_type": "code",
      "metadata": {
        "id": "WFYN0-byBc-b",
        "colab_type": "code",
        "colab": {
          "base_uri": "https://localhost:8080/",
          "height": 282
        },
        "outputId": "c3b84243-70da-4bfa-a794-d6f19424e72f"
      },
      "source": [
        "x_train = torch.rand(100)\n",
        "x_train = x_train * 20.0 - 10.0\n",
        "\n",
        "def func(x):\n",
        "  return torch.sin(x)\n",
        "\n",
        "y_train = func(x_train)\n",
        "\n",
        "plt.plot(x_train.numpy(), y_train.numpy(),'o')\n",
        "\n"
      ],
      "execution_count": 226,
      "outputs": [
        {
          "output_type": "execute_result",
          "data": {
            "text/plain": [
              "[<matplotlib.lines.Line2D at 0x7eff6e42fcf8>]"
            ]
          },
          "metadata": {
            "tags": []
          },
          "execution_count": 226
        },
        {
          "output_type": "display_data",
          "data": {
            "image/png": "[encoded data removed]",
            "text/plain": [
              "<Figure size 432x288 with 1 Axes>"
            ]
          },
          "metadata": {
            "tags": [],
            "needs_background": "light"
          }
        }
      ]
    },
    {
      "cell_type": "code",
      "metadata": {
        "id": "KPKFJLogCT5y",
        "colab_type": "code",
        "colab": {}
      },
      "source": [
        "noise = torch.rand(y_train.shape) * 0.09  # сгенерируем шум\n",
        "\n"
      ],
      "execution_count": 227,
      "outputs": []
    },
    {
      "cell_type": "code",
      "metadata": {
        "id": "rGHqyQqcGoRE",
        "colab_type": "code",
        "colab": {
          "base_uri": "https://localhost:8080/",
          "height": 282
        },
        "outputId": "400b9810-b4b9-481a-f9f8-6e7bd4402055"
      },
      "source": [
        "y_train += noise\n",
        "\n",
        "plt.plot(x_train.numpy(), y_train.numpy(),'o')"
      ],
      "execution_count": 228,
      "outputs": [
        {
          "output_type": "execute_result",
          "data": {
            "text/plain": [
              "[<matplotlib.lines.Line2D at 0x7eff6dc68b70>]"
            ]
          },
          "metadata": {
            "tags": []
          },
          "execution_count": 228
        },
        {
          "output_type": "display_data",
          "data": {
            "image/png": "[encoded data removed]",
            "text/plain": [
              "<Figure size 432x288 with 1 Axes>"
            ]
          },
          "metadata": {
            "tags": [],
            "needs_background": "light"
          }
        }
      ]
    },
    {
      "cell_type": "code",
      "metadata": {
        "id": "ebq0qjQ9Hdfy",
        "colab_type": "code",
        "colab": {
          "base_uri": "https://localhost:8080/",
          "height": 1000
        },
        "outputId": "fd88abb1-a7d1-472e-e344-5c803e859a5a"
      },
      "source": [
        "x_train.unsqueeze_(1)  # получаем вектора \"строки\" вектор  \"столбец\"\n",
        "y_train.unsqueeze_(1)"
      ],
      "execution_count": 229,
      "outputs": [
        {
          "output_type": "execute_result",
          "data": {
            "text/plain": [
              "tensor([[-0.8302],\n",
              "        [ 0.3391],\n",
              "        [ 0.2626],\n",
              "        [-0.9758],\n",
              "        [-0.6228],\n",
              "        [-0.9395],\n",
              "        [ 0.8597],\n",
              "        [ 0.0749],\n",
              "        [ 1.0624],\n",
              "        [-0.2262],\n",
              "        [ 0.9790],\n",
              "        [-0.5756],\n",
              "        [ 0.5652],\n",
              "        [ 0.7924],\n",
              "        [-0.9618],\n",
              "        [-0.8200],\n",
              "        [ 0.9638],\n",
              "        [-0.4747],\n",
              "        [-0.3855],\n",
              "        [ 0.6651],\n",
              "        [ 0.8070],\n",
              "        [ 0.6889],\n",
              "        [-0.8667],\n",
              "        [-0.0131],\n",
              "        [-0.7844],\n",
              "        [ 0.3239],\n",
              "        [ 0.0999],\n",
              "        [-0.9854],\n",
              "        [-0.9326],\n",
              "        [-0.7259],\n",
              "        [ 0.7918],\n",
              "        [-0.8953],\n",
              "        [ 0.9678],\n",
              "        [-0.4750],\n",
              "        [-0.6194],\n",
              "        [ 0.4675],\n",
              "        [ 0.7291],\n",
              "        [ 0.7673],\n",
              "        [-0.0604],\n",
              "        [-0.8998],\n",
              "        [ 1.0347],\n",
              "        [-0.6601],\n",
              "        [ 0.2033],\n",
              "        [-0.8106],\n",
              "        [-0.3098],\n",
              "        [-0.2088],\n",
              "        [ 1.0128],\n",
              "        [-0.0407],\n",
              "        [ 0.6293],\n",
              "        [-0.8068],\n",
              "        [-0.0805],\n",
              "        [-0.6598],\n",
              "        [ 1.0050],\n",
              "        [-0.9445],\n",
              "        [ 0.6548],\n",
              "        [-0.6033],\n",
              "        [ 0.1366],\n",
              "        [ 0.9775],\n",
              "        [-0.8704],\n",
              "        [-0.7803],\n",
              "        [ 0.8967],\n",
              "        [-0.9047],\n",
              "        [-0.7144],\n",
              "        [-0.8598],\n",
              "        [ 0.4993],\n",
              "        [-0.2956],\n",
              "        [-0.7338],\n",
              "        [-0.7729],\n",
              "        [-0.1117],\n",
              "        [-0.5094],\n",
              "        [ 0.8459],\n",
              "        [ 0.9707],\n",
              "        [-0.8531],\n",
              "        [ 0.9500],\n",
              "        [ 0.9965],\n",
              "        [ 0.7728],\n",
              "        [ 0.8687],\n",
              "        [-0.8982],\n",
              "        [ 0.2647],\n",
              "        [ 0.7502],\n",
              "        [-0.9218],\n",
              "        [-0.3798],\n",
              "        [-0.9490],\n",
              "        [ 1.0037],\n",
              "        [ 1.0199],\n",
              "        [ 0.4778],\n",
              "        [ 1.0430],\n",
              "        [ 0.8629],\n",
              "        [-0.9198],\n",
              "        [ 1.0272],\n",
              "        [ 0.0186],\n",
              "        [ 0.1520],\n",
              "        [ 0.0864],\n",
              "        [ 0.1633],\n",
              "        [ 0.1990],\n",
              "        [ 0.2002],\n",
              "        [ 0.5996],\n",
              "        [ 1.0255],\n",
              "        [-0.1865],\n",
              "        [-0.2474]])"
            ]
          },
          "metadata": {
            "tags": []
          },
          "execution_count": 229
        }
      ]
    },
    {
      "cell_type": "code",
      "metadata": {
        "id": "0AIs32r3BwMn",
        "colab_type": "code",
        "colab": {
          "base_uri": "https://localhost:8080/",
          "height": 1000
        },
        "outputId": "c1f40e1a-7ec6-4938-c63e-0c0159db4393"
      },
      "source": [
        "x_validation = torch.linspace(-10, 10, 100)\n",
        "y_validation = func(x_validation)\n",
        "\n",
        "x_validation.unsqueeze_(1)  # получаем вектора \"строки\" вектор  \"столбец\"\n",
        "y_validation.unsqueeze_(1)"
      ],
      "execution_count": 230,
      "outputs": [
        {
          "output_type": "execute_result",
          "data": {
            "text/plain": [
              "tensor([[ 0.5440],\n",
              "        [ 0.3646],\n",
              "        [ 0.1703],\n",
              "        [-0.0308],\n",
              "        [-0.2308],\n",
              "        [-0.4213],\n",
              "        [-0.5947],\n",
              "        [-0.7439],\n",
              "        [-0.8629],\n",
              "        [-0.9467],\n",
              "        [-0.9921],\n",
              "        [-0.9971],\n",
              "        [-0.9615],\n",
              "        [-0.8869],\n",
              "        [-0.7761],\n",
              "        [-0.6338],\n",
              "        [-0.4658],\n",
              "        [-0.2787],\n",
              "        [-0.0804],\n",
              "        [ 0.1213],\n",
              "        [ 0.3180],\n",
              "        [ 0.5017],\n",
              "        [ 0.6651],\n",
              "        [ 0.8014],\n",
              "        [ 0.9051],\n",
              "        [ 0.9720],\n",
              "        [ 0.9994],\n",
              "        [ 0.9861],\n",
              "        [ 0.9327],\n",
              "        [ 0.8414],\n",
              "        [ 0.7158],\n",
              "        [ 0.5612],\n",
              "        [ 0.3837],\n",
              "        [ 0.1906],\n",
              "        [-0.0103],\n",
              "        [-0.2107],\n",
              "        [-0.4026],\n",
              "        [-0.5781],\n",
              "        [-0.7300],\n",
              "        [-0.8523],\n",
              "        [-0.9399],\n",
              "        [-0.9893],\n",
              "        [-0.9985],\n",
              "        [-0.9670],\n",
              "        [-0.8962],\n",
              "        [-0.7889],\n",
              "        [-0.6496],\n",
              "        [-0.4839],\n",
              "        [-0.2984],\n",
              "        [-0.1008],\n",
              "        [ 0.1008],\n",
              "        [ 0.2984],\n",
              "        [ 0.4839],\n",
              "        [ 0.6496],\n",
              "        [ 0.7889],\n",
              "        [ 0.8962],\n",
              "        [ 0.9670],\n",
              "        [ 0.9985],\n",
              "        [ 0.9893],\n",
              "        [ 0.9399],\n",
              "        [ 0.8523],\n",
              "        [ 0.7300],\n",
              "        [ 0.5781],\n",
              "        [ 0.4026],\n",
              "        [ 0.2107],\n",
              "        [ 0.0103],\n",
              "        [-0.1906],\n",
              "        [-0.3837],\n",
              "        [-0.5612],\n",
              "        [-0.7158],\n",
              "        [-0.8414],\n",
              "        [-0.9327],\n",
              "        [-0.9861],\n",
              "        [-0.9994],\n",
              "        [-0.9720],\n",
              "        [-0.9051],\n",
              "        [-0.8014],\n",
              "        [-0.6651],\n",
              "        [-0.5017],\n",
              "        [-0.3180],\n",
              "        [-0.1213],\n",
              "        [ 0.0804],\n",
              "        [ 0.2787],\n",
              "        [ 0.4658],\n",
              "        [ 0.6338],\n",
              "        [ 0.7761],\n",
              "        [ 0.8869],\n",
              "        [ 0.9615],\n",
              "        [ 0.9971],\n",
              "        [ 0.9921],\n",
              "        [ 0.9467],\n",
              "        [ 0.8629],\n",
              "        [ 0.7439],\n",
              "        [ 0.5947],\n",
              "        [ 0.4213],\n",
              "        [ 0.2308],\n",
              "        [ 0.0308],\n",
              "        [-0.1703],\n",
              "        [-0.3646],\n",
              "        [-0.5440]])"
            ]
          },
          "metadata": {
            "tags": []
          },
          "execution_count": 230
        }
      ]
    },
    {
      "cell_type": "code",
      "metadata": {
        "id": "jjjZXkTkHsc7",
        "colab_type": "code",
        "colab": {}
      },
      "source": [
        "class SineNet(torch.nn.Module):\n",
        "    \"\"\"Модель линейной нейронной сети.\"\"\"\n",
        "    def __init__(self, n_hidden_neurons):\n",
        "        super(SineNet, self).__init__()  # вызываем родительский инициализатор \n",
        "        self.fc1 = torch.nn.Linear(1, n_hidden_neurons, bias= True)  # первый  полносвязный слой с одним входом (координата x)\n",
        "        self.fc2 = torch.nn.Linear(n_hidden_neurons, n_hidden_neurons, bias= True)  # выходной нейнон \n",
        "        self.tanh1 = torch.nn.Sigmoid()  #  функция активации\n",
        "        self.tanh2 = torch.nn.Tanh()\n",
        "        self.fc3 = torch.nn.Linear(n_hidden_neurons, 1, bias= True)\n",
        "        self.nlayers = [self.fc1, self.tanh1, self.fc2, self.tanh2, self.fc3]\n",
        "\n",
        "    def forward(self, x):\n",
        "        \"\"\"Фунция описывает в какой последовательности будут применяться наши слои.\"\"\"\n",
        "        return reduce(lambda x,f : f(x), self.nlayers , x)"
      ],
      "execution_count": 250,
      "outputs": []
    },
    {
      "cell_type": "code",
      "metadata": {
        "id": "xzqa86FL93ux",
        "colab_type": "code",
        "colab": {}
      },
      "source": [
        "sine_net = SineNet(100)"
      ],
      "execution_count": 266,
      "outputs": []
    },
    {
      "cell_type": "code",
      "metadata": {
        "id": "OSrQoMHsBvIE",
        "colab_type": "code",
        "colab": {}
      },
      "source": [
        ""
      ],
      "execution_count": 157,
      "outputs": []
    },
    {
      "cell_type": "markdown",
      "metadata": {
        "id": "0PtgqQzNEbVf",
        "colab_type": "text"
      },
      "source": [
        "**Optimizer**\n",
        "\n"
      ]
    },
    {
      "cell_type": "code",
      "metadata": {
        "id": "YD63wBWfEkcA",
        "colab_type": "code",
        "colab": {}
      },
      "source": [
        "optimizer = torch.optim.Adam(sine_net.parameters(), lr=0.001)"
      ],
      "execution_count": 272,
      "outputs": []
    },
    {
      "cell_type": "markdown",
      "metadata": {
        "id": "gvqHrFEkE2lm",
        "colab_type": "text"
      },
      "source": [
        "**Loss function**\n"
      ]
    },
    {
      "cell_type": "code",
      "metadata": {
        "id": "SKKi0E_uE-GB",
        "colab_type": "code",
        "colab": {}
      },
      "source": [
        " loss = torch.nn.L1Loss()"
      ],
      "execution_count": 253,
      "outputs": []
    },
    {
      "cell_type": "code",
      "metadata": {
        "id": "tFcdPoPnFvwi",
        "colab_type": "code",
        "colab": {}
      },
      "source": [
        ""
      ],
      "execution_count": 159,
      "outputs": []
    },
    {
      "cell_type": "markdown",
      "metadata": {
        "id": "mgN6L-RZGCf9",
        "colab_type": "text"
      },
      "source": [
        "**Training procedure**\n"
      ]
    },
    {
      "cell_type": "code",
      "metadata": {
        "id": "O111my6BGV2g",
        "colab_type": "code",
        "colab": {}
      },
      "source": [
        "for epoch_index in range(2000):\n",
        "    optimizer.zero_grad()\n",
        "\n",
        "    y_pred = sine_net.forward(x_train)\n",
        "    loss_val = loss(y_pred, y_train)\n",
        "\n",
        "    loss_val.backward()\n",
        "    optimizer.step()\n",
        "\n"
      ],
      "execution_count": 273,
      "outputs": []
    },
    {
      "cell_type": "code",
      "metadata": {
        "id": "2xkQ8NUq_4LA",
        "colab_type": "code",
        "colab": {
          "base_uri": "https://localhost:8080/",
          "height": 279
        },
        "outputId": "4fc332f8-f647-47af-fcb9-4c1f1e2c39b8"
      },
      "source": [
        "def predict(net, x, y):\n",
        "    y_pred = net.forward(x)\n",
        "\n",
        "    plt.plot(x.numpy(), y.numpy(), 'o', label='Groud truth')\n",
        "    plt.plot(x.numpy(), y_pred.data.numpy(), 'o', c='r', label='Prediction');\n",
        "    plt.legend(loc='upper left')\n",
        "    plt.xlabel('$x$')\n",
        "    plt.ylabel('$y$')\n",
        "\n",
        "\n",
        "predict(sine_net, x_validation, y_validation)"
      ],
      "execution_count": 274,
      "outputs": [
        {
          "output_type": "display_data",
          "data": {
            "image/png": "[encoded data removed]",
            "text/plain": [
              "<Figure size 432x288 with 1 Axes>"
            ]
          },
          "metadata": {
            "tags": [],
            "needs_background": "light"
          }
        }
      ]
    }
  ]
}