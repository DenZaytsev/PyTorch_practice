{
  "nbformat": 4,
  "nbformat_minor": 0,
  "metadata": {
    "colab": {
      "name": "test.ipynb",
      "provenance": [],
      "authorship_tag": "ABX9TyP2VzWFZQwKVvmvEJ6Veny4",
      "include_colab_link": true
    },
    "kernelspec": {
      "name": "python3",
      "display_name": "Python 3"
    }
  },
  "cells": [
    {
      "cell_type": "markdown",
      "metadata": {
        "id": "view-in-github",
        "colab_type": "text"
      },
      "source": [
        "<a href=\"https://colab.research.google.com/github/posttsoi/-building-the-first-neural-networks/blob/master/test.ipynb\" target=\"_parent\"><img src=\"https://colab.research.google.com/assets/colab-badge.svg\" alt=\"Open In Colab\"/></a>"
      ]
    },
    {
      "cell_type": "code",
      "metadata": {
        "id": "yiOGWRrKAOi8",
        "colab_type": "code",
        "colab": {}
      },
      "source": [
        "import torch"
      ],
      "execution_count": 1,
      "outputs": []
    },
    {
      "cell_type": "code",
      "metadata": {
        "id": "hVTqyjS5AmnI",
        "colab_type": "code",
        "colab": {}
      },
      "source": [
        "%matplotlib inline\n",
        "import matplotlib.pyplot as plt \n",
        "import matplotlib"
      ],
      "execution_count": 2,
      "outputs": []
    },
    {
      "cell_type": "code",
      "metadata": {
        "id": "jimiidN1BW9n",
        "colab_type": "code",
        "colab": {}
      },
      "source": [
        ""
      ],
      "execution_count": null,
      "outputs": []
    },
    {
      "cell_type": "markdown",
      "metadata": {
        "id": "W54BJcI4Ba1G",
        "colab_type": "text"
      },
      "source": [
        "Train dataset\n",
        "\n"
      ]
    },
    {
      "cell_type": "code",
      "metadata": {
        "id": "WFYN0-byBc-b",
        "colab_type": "code",
        "colab": {
          "base_uri": "https://localhost:8080/",
          "height": 282
        },
        "outputId": "40616806-e9c1-411b-987b-99881bade7ef"
      },
      "source": [
        "x_train = torch.rand(100)\n",
        "x_train = x_train * 20.0 - 10.0\n",
        "\n",
        "def func(x):\n",
        "  return (torch.sigmoid(x * 0.2) / 0.03 * torch.cos(x))\n",
        "\n",
        "y_train =func(x_train)\n",
        "\n",
        "plt.plot(x_train.numpy(), y_train.numpy(),'o')\n",
        "\n"
      ],
      "execution_count": 3,
      "outputs": [
        {
          "output_type": "execute_result",
          "data": {
            "text/plain": [
              "[<matplotlib.lines.Line2D at 0x7eff6fa4cba8>]"
            ]
          },
          "metadata": {
            "tags": []
          },
          "execution_count": 3
        },
        {
          "output_type": "display_data",
          "data": {
            "image/png": "[encoded data removed]",
            "text/plain": [
              "<Figure size 432x288 with 1 Axes>"
            ]
          },
          "metadata": {
            "tags": [],
            "needs_background": "light"
          }
        }
      ]
    },
    {
      "cell_type": "code",
      "metadata": {
        "id": "KPKFJLogCT5y",
        "colab_type": "code",
        "colab": {}
      },
      "source": [
        "noise = torch.rand(y_train.shape) * 4.9  # сгенерируем шум\n",
        "\n"
      ],
      "execution_count": 4,
      "outputs": []
    },
    {
      "cell_type": "code",
      "metadata": {
        "id": "rGHqyQqcGoRE",
        "colab_type": "code",
        "colab": {
          "base_uri": "https://localhost:8080/",
          "height": 282
        },
        "outputId": "01632bed-3db7-416a-cb85-619fa098b8fa"
      },
      "source": [
        "y_train += noise\n",
        "\n",
        "plt.plot(x_train.numpy(), y_train.numpy(),'o')"
      ],
      "execution_count": 5,
      "outputs": [
        {
          "output_type": "execute_result",
          "data": {
            "text/plain": [
              "[<matplotlib.lines.Line2D at 0x7eff6f5330f0>]"
            ]
          },
          "metadata": {
            "tags": []
          },
          "execution_count": 5
        },
        {
          "output_type": "display_data",
          "data": {
            "image/png": "[encoded data removed]",
            "text/plain": [
              "<Figure size 432x288 with 1 Axes>"
            ]
          },
          "metadata": {
            "tags": [],
            "needs_background": "light"
          }
        }
      ]
    },
    {
      "cell_type": "code",
      "metadata": {
        "id": "ebq0qjQ9Hdfy",
        "colab_type": "code",
        "colab": {}
      },
      "source": [
        "x_train.unsqueeze_(1)  # получаем вектора \"строки\" вектор  \"столбец\"\n",
        "y_train.unsqueeze_(1)"
      ],
      "execution_count": null,
      "outputs": []
    },
    {
      "cell_type": "code",
      "metadata": {
        "id": "jjjZXkTkHsc7",
        "colab_type": "code",
        "colab": {}
      },
      "source": [
        "class SineNet(torch.nn.Module):\n",
        "    \"\"\"Модель линейной нейронной сети.\"\"\"\n",
        "    def __init__(self, n_hidden_neorons):\n",
        "        super(SineNet, self).__init__()  # вызываем родительский инициализатор \n",
        "        self.fc1 = torch.nn.Linear(1, n_hidden_neorons)  # первый  полносвязный слой с одним входом (координата x)\n",
        "        self.fc2 = torch.nn.Linear(n_hidden_neorons, 1)  # выходной нейнон \n",
        "        self.act = torch.nn.Sigmoid()  #  функция активации\n",
        "\n",
        "    def forward(self, x):\n",
        "        \"\"\"Фунция описывает в какой последовательности будут применяться наши слои.\"\"\"\n",
        "        x = self.fc1(x)\n",
        "        x = self.act(x)\n",
        "        x = self.fc2(x)\n",
        "        return x"
      ],
      "execution_count": 9,
      "outputs": []
    },
    {
      "cell_type": "code",
      "metadata": {
        "id": "xzqa86FL93ux",
        "colab_type": "code",
        "colab": {}
      },
      "source": [
        ""
      ],
      "execution_count": null,
      "outputs": []
    }
  ]
}